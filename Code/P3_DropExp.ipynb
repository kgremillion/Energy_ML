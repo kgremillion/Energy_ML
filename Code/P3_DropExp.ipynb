{
 "cells": [
  {
   "cell_type": "markdown",
   "metadata": {},
   "source": [
    "# Machine Learning Used To Predict Oil & Gas Share Prices"
   ]
  },
  {
   "cell_type": "code",
   "execution_count": 32,
   "metadata": {
    "slideshow": {
     "slide_type": "slide"
    }
   },
   "outputs": [],
   "source": [
    "import warnings\n",
    "warnings.simplefilter('ignore')\n",
    "\n",
    "# %matplotlib inline\n",
    "import matplotlib.pyplot as plt\n",
    "import numpy as np\n",
    "import pandas as pd\n",
    "import seaborn as sns"
   ]
  },
  {
   "cell_type": "code",
   "execution_count": 33,
   "metadata": {
    "slideshow": {
     "slide_type": "subslide"
    }
   },
   "outputs": [
    {
     "data": {
      "text/html": [
       "<div>\n",
       "<style scoped>\n",
       "    .dataframe tbody tr th:only-of-type {\n",
       "        vertical-align: middle;\n",
       "    }\n",
       "\n",
       "    .dataframe tbody tr th {\n",
       "        vertical-align: top;\n",
       "    }\n",
       "\n",
       "    .dataframe thead th {\n",
       "        text-align: right;\n",
       "    }\n",
       "</style>\n",
       "<table border=\"1\" class=\"dataframe\">\n",
       "  <thead>\n",
       "    <tr style=\"text-align: right;\">\n",
       "      <th></th>\n",
       "      <th>Quarter</th>\n",
       "      <th>Year</th>\n",
       "      <th>Company_Name</th>\n",
       "      <th>Ticker</th>\n",
       "      <th>SharePrice_USD</th>\n",
       "      <th>Expenses_B_USD</th>\n",
       "      <th>Revenue_B_USD</th>\n",
       "      <th>CashFlow_B_USD</th>\n",
       "      <th>DividendYield_Percent</th>\n",
       "      <th>US_Unemployment_Percent</th>\n",
       "      <th>Brent_USD</th>\n",
       "      <th>LNG_USD</th>\n",
       "      <th>US_Interest_Percent</th>\n",
       "    </tr>\n",
       "  </thead>\n",
       "  <tbody>\n",
       "    <tr>\n",
       "      <td>0</td>\n",
       "      <td>1</td>\n",
       "      <td>2005</td>\n",
       "      <td>Exxon</td>\n",
       "      <td>XOM</td>\n",
       "      <td>56</td>\n",
       "      <td>61.76</td>\n",
       "      <td>82.05</td>\n",
       "      <td>10.26</td>\n",
       "      <td>0.0027</td>\n",
       "      <td>0.053</td>\n",
       "      <td>48</td>\n",
       "      <td>9.89</td>\n",
       "      <td>0.0247</td>\n",
       "    </tr>\n",
       "    <tr>\n",
       "      <td>1</td>\n",
       "      <td>1</td>\n",
       "      <td>2005</td>\n",
       "      <td>BP</td>\n",
       "      <td>BP</td>\n",
       "      <td>62</td>\n",
       "      <td>47.08</td>\n",
       "      <td>55.51</td>\n",
       "      <td>6.52</td>\n",
       "      <td>0.0051</td>\n",
       "      <td>0.053</td>\n",
       "      <td>48</td>\n",
       "      <td>9.89</td>\n",
       "      <td>0.0247</td>\n",
       "    </tr>\n",
       "    <tr>\n",
       "      <td>2</td>\n",
       "      <td>1</td>\n",
       "      <td>2005</td>\n",
       "      <td>Equinor</td>\n",
       "      <td>EQNR</td>\n",
       "      <td>17</td>\n",
       "      <td>9.96</td>\n",
       "      <td>13.35</td>\n",
       "      <td>1.73</td>\n",
       "      <td>0.0000</td>\n",
       "      <td>0.053</td>\n",
       "      <td>48</td>\n",
       "      <td>9.89</td>\n",
       "      <td>0.0247</td>\n",
       "    </tr>\n",
       "    <tr>\n",
       "      <td>3</td>\n",
       "      <td>1</td>\n",
       "      <td>2005</td>\n",
       "      <td>Chevron</td>\n",
       "      <td>CVX</td>\n",
       "      <td>57</td>\n",
       "      <td>34.46</td>\n",
       "      <td>41.61</td>\n",
       "      <td>2.44</td>\n",
       "      <td>0.0040</td>\n",
       "      <td>0.053</td>\n",
       "      <td>48</td>\n",
       "      <td>9.89</td>\n",
       "      <td>0.0247</td>\n",
       "    </tr>\n",
       "    <tr>\n",
       "      <td>4</td>\n",
       "      <td>1</td>\n",
       "      <td>2005</td>\n",
       "      <td>Shell</td>\n",
       "      <td>RDS-A</td>\n",
       "      <td>63</td>\n",
       "      <td>62.36</td>\n",
       "      <td>72.16</td>\n",
       "      <td>5.16</td>\n",
       "      <td>0.0000</td>\n",
       "      <td>0.053</td>\n",
       "      <td>48</td>\n",
       "      <td>9.89</td>\n",
       "      <td>0.0247</td>\n",
       "    </tr>\n",
       "    <tr>\n",
       "      <td>...</td>\n",
       "      <td>...</td>\n",
       "      <td>...</td>\n",
       "      <td>...</td>\n",
       "      <td>...</td>\n",
       "      <td>...</td>\n",
       "      <td>...</td>\n",
       "      <td>...</td>\n",
       "      <td>...</td>\n",
       "      <td>...</td>\n",
       "      <td>...</td>\n",
       "      <td>...</td>\n",
       "      <td>...</td>\n",
       "      <td>...</td>\n",
       "    </tr>\n",
       "    <tr>\n",
       "      <td>307</td>\n",
       "      <td>4</td>\n",
       "      <td>2017</td>\n",
       "      <td>BP</td>\n",
       "      <td>BP</td>\n",
       "      <td>40</td>\n",
       "      <td>67.56</td>\n",
       "      <td>67.82</td>\n",
       "      <td>1.48</td>\n",
       "      <td>0.0060</td>\n",
       "      <td>0.042</td>\n",
       "      <td>61</td>\n",
       "      <td>3.84</td>\n",
       "      <td>0.0120</td>\n",
       "    </tr>\n",
       "    <tr>\n",
       "      <td>308</td>\n",
       "      <td>4</td>\n",
       "      <td>2017</td>\n",
       "      <td>Equinor</td>\n",
       "      <td>EQNR</td>\n",
       "      <td>20</td>\n",
       "      <td>11.93</td>\n",
       "      <td>17.11</td>\n",
       "      <td>1.71</td>\n",
       "      <td>0.0022</td>\n",
       "      <td>0.042</td>\n",
       "      <td>61</td>\n",
       "      <td>3.84</td>\n",
       "      <td>0.0120</td>\n",
       "    </tr>\n",
       "    <tr>\n",
       "      <td>309</td>\n",
       "      <td>4</td>\n",
       "      <td>2017</td>\n",
       "      <td>Chevron</td>\n",
       "      <td>CVX</td>\n",
       "      <td>118</td>\n",
       "      <td>35.96</td>\n",
       "      <td>36.38</td>\n",
       "      <td>2.59</td>\n",
       "      <td>0.0108</td>\n",
       "      <td>0.042</td>\n",
       "      <td>61</td>\n",
       "      <td>3.84</td>\n",
       "      <td>0.0120</td>\n",
       "    </tr>\n",
       "    <tr>\n",
       "      <td>310</td>\n",
       "      <td>4</td>\n",
       "      <td>2017</td>\n",
       "      <td>Shell</td>\n",
       "      <td>RDS-A</td>\n",
       "      <td>65</td>\n",
       "      <td>80.59</td>\n",
       "      <td>85.42</td>\n",
       "      <td>1.41</td>\n",
       "      <td>0.0094</td>\n",
       "      <td>0.042</td>\n",
       "      <td>61</td>\n",
       "      <td>3.84</td>\n",
       "      <td>0.0120</td>\n",
       "    </tr>\n",
       "    <tr>\n",
       "      <td>311</td>\n",
       "      <td>4</td>\n",
       "      <td>2017</td>\n",
       "      <td>Total</td>\n",
       "      <td>TOT</td>\n",
       "      <td>55</td>\n",
       "      <td>40.22</td>\n",
       "      <td>41.44</td>\n",
       "      <td>3.95</td>\n",
       "      <td>0.0073</td>\n",
       "      <td>0.042</td>\n",
       "      <td>61</td>\n",
       "      <td>3.84</td>\n",
       "      <td>0.0120</td>\n",
       "    </tr>\n",
       "  </tbody>\n",
       "</table>\n",
       "<p>312 rows × 13 columns</p>\n",
       "</div>"
      ],
      "text/plain": [
       "     Quarter  Year Company_Name Ticker  SharePrice_USD  Expenses_B_USD  \\\n",
       "0          1  2005        Exxon    XOM              56           61.76   \n",
       "1          1  2005           BP     BP              62           47.08   \n",
       "2          1  2005      Equinor   EQNR              17            9.96   \n",
       "3          1  2005      Chevron    CVX              57           34.46   \n",
       "4          1  2005        Shell  RDS-A              63           62.36   \n",
       "..       ...   ...          ...    ...             ...             ...   \n",
       "307        4  2017           BP     BP              40           67.56   \n",
       "308        4  2017      Equinor   EQNR              20           11.93   \n",
       "309        4  2017      Chevron    CVX             118           35.96   \n",
       "310        4  2017        Shell  RDS-A              65           80.59   \n",
       "311        4  2017        Total    TOT              55           40.22   \n",
       "\n",
       "     Revenue_B_USD  CashFlow_B_USD  DividendYield_Percent  \\\n",
       "0            82.05           10.26                 0.0027   \n",
       "1            55.51            6.52                 0.0051   \n",
       "2            13.35            1.73                 0.0000   \n",
       "3            41.61            2.44                 0.0040   \n",
       "4            72.16            5.16                 0.0000   \n",
       "..             ...             ...                    ...   \n",
       "307          67.82            1.48                 0.0060   \n",
       "308          17.11            1.71                 0.0022   \n",
       "309          36.38            2.59                 0.0108   \n",
       "310          85.42            1.41                 0.0094   \n",
       "311          41.44            3.95                 0.0073   \n",
       "\n",
       "     US_Unemployment_Percent  Brent_USD  LNG_USD  US_Interest_Percent  \n",
       "0                      0.053         48     9.89               0.0247  \n",
       "1                      0.053         48     9.89               0.0247  \n",
       "2                      0.053         48     9.89               0.0247  \n",
       "3                      0.053         48     9.89               0.0247  \n",
       "4                      0.053         48     9.89               0.0247  \n",
       "..                       ...        ...      ...                  ...  \n",
       "307                    0.042         61     3.84               0.0120  \n",
       "308                    0.042         61     3.84               0.0120  \n",
       "309                    0.042         61     3.84               0.0120  \n",
       "310                    0.042         61     3.84               0.0120  \n",
       "311                    0.042         61     3.84               0.0120  \n",
       "\n",
       "[312 rows x 13 columns]"
      ]
     },
     "execution_count": 33,
     "metadata": {},
     "output_type": "execute_result"
    }
   ],
   "source": [
    "# Read the csv file into a pandas DataFrame\n",
    "\n",
    "data = pd.read_csv('Resources/P3_Data.csv')\n",
    "data.head(312)"
   ]
  },
  {
   "attachments": {
    "download%20%281%29.png": {
     "image/png": "[encoded data removed]"
    }
   },
   "cell_type": "markdown",
   "metadata": {},
   "source": [
    "## Original Coefficient Matrix\n",
    "\n",
    "Found that Revenue & Expenses were too highly related so below a new dataframe is created with all variable that are independent\n",
    "\n",
    "![download%20%281%29.png](attachment:download%20%281%29.png)"
   ]
  },
  {
   "cell_type": "code",
   "execution_count": 34,
   "metadata": {},
   "outputs": [
    {
     "data": {
      "text/html": [
       "<div>\n",
       "<style scoped>\n",
       "    .dataframe tbody tr th:only-of-type {\n",
       "        vertical-align: middle;\n",
       "    }\n",
       "\n",
       "    .dataframe tbody tr th {\n",
       "        vertical-align: top;\n",
       "    }\n",
       "\n",
       "    .dataframe thead th {\n",
       "        text-align: right;\n",
       "    }\n",
       "</style>\n",
       "<table border=\"1\" class=\"dataframe\">\n",
       "  <thead>\n",
       "    <tr style=\"text-align: right;\">\n",
       "      <th></th>\n",
       "      <th>SharePrice_USD</th>\n",
       "      <th>Revenue_B_USD</th>\n",
       "      <th>CashFlow_B_USD</th>\n",
       "      <th>DividendYield_Percent</th>\n",
       "      <th>US_Unemployment_Percent</th>\n",
       "      <th>Brent_USD</th>\n",
       "      <th>LNG_USD</th>\n",
       "      <th>US_Interest_Percent</th>\n",
       "    </tr>\n",
       "  </thead>\n",
       "  <tbody>\n",
       "    <tr>\n",
       "      <td>0</td>\n",
       "      <td>56</td>\n",
       "      <td>82.05</td>\n",
       "      <td>10.26</td>\n",
       "      <td>0.0027</td>\n",
       "      <td>0.053</td>\n",
       "      <td>48</td>\n",
       "      <td>9.89</td>\n",
       "      <td>0.0247</td>\n",
       "    </tr>\n",
       "    <tr>\n",
       "      <td>1</td>\n",
       "      <td>62</td>\n",
       "      <td>55.51</td>\n",
       "      <td>6.52</td>\n",
       "      <td>0.0051</td>\n",
       "      <td>0.053</td>\n",
       "      <td>48</td>\n",
       "      <td>9.89</td>\n",
       "      <td>0.0247</td>\n",
       "    </tr>\n",
       "    <tr>\n",
       "      <td>2</td>\n",
       "      <td>17</td>\n",
       "      <td>13.35</td>\n",
       "      <td>1.73</td>\n",
       "      <td>0.0000</td>\n",
       "      <td>0.053</td>\n",
       "      <td>48</td>\n",
       "      <td>9.89</td>\n",
       "      <td>0.0247</td>\n",
       "    </tr>\n",
       "    <tr>\n",
       "      <td>3</td>\n",
       "      <td>57</td>\n",
       "      <td>41.61</td>\n",
       "      <td>2.44</td>\n",
       "      <td>0.0040</td>\n",
       "      <td>0.053</td>\n",
       "      <td>48</td>\n",
       "      <td>9.89</td>\n",
       "      <td>0.0247</td>\n",
       "    </tr>\n",
       "    <tr>\n",
       "      <td>4</td>\n",
       "      <td>63</td>\n",
       "      <td>72.16</td>\n",
       "      <td>5.16</td>\n",
       "      <td>0.0000</td>\n",
       "      <td>0.053</td>\n",
       "      <td>48</td>\n",
       "      <td>9.89</td>\n",
       "      <td>0.0247</td>\n",
       "    </tr>\n",
       "    <tr>\n",
       "      <td>...</td>\n",
       "      <td>...</td>\n",
       "      <td>...</td>\n",
       "      <td>...</td>\n",
       "      <td>...</td>\n",
       "      <td>...</td>\n",
       "      <td>...</td>\n",
       "      <td>...</td>\n",
       "      <td>...</td>\n",
       "    </tr>\n",
       "    <tr>\n",
       "      <td>307</td>\n",
       "      <td>40</td>\n",
       "      <td>67.82</td>\n",
       "      <td>1.48</td>\n",
       "      <td>0.0060</td>\n",
       "      <td>0.042</td>\n",
       "      <td>61</td>\n",
       "      <td>3.84</td>\n",
       "      <td>0.0120</td>\n",
       "    </tr>\n",
       "    <tr>\n",
       "      <td>308</td>\n",
       "      <td>20</td>\n",
       "      <td>17.11</td>\n",
       "      <td>1.71</td>\n",
       "      <td>0.0022</td>\n",
       "      <td>0.042</td>\n",
       "      <td>61</td>\n",
       "      <td>3.84</td>\n",
       "      <td>0.0120</td>\n",
       "    </tr>\n",
       "    <tr>\n",
       "      <td>309</td>\n",
       "      <td>118</td>\n",
       "      <td>36.38</td>\n",
       "      <td>2.59</td>\n",
       "      <td>0.0108</td>\n",
       "      <td>0.042</td>\n",
       "      <td>61</td>\n",
       "      <td>3.84</td>\n",
       "      <td>0.0120</td>\n",
       "    </tr>\n",
       "    <tr>\n",
       "      <td>310</td>\n",
       "      <td>65</td>\n",
       "      <td>85.42</td>\n",
       "      <td>1.41</td>\n",
       "      <td>0.0094</td>\n",
       "      <td>0.042</td>\n",
       "      <td>61</td>\n",
       "      <td>3.84</td>\n",
       "      <td>0.0120</td>\n",
       "    </tr>\n",
       "    <tr>\n",
       "      <td>311</td>\n",
       "      <td>55</td>\n",
       "      <td>41.44</td>\n",
       "      <td>3.95</td>\n",
       "      <td>0.0073</td>\n",
       "      <td>0.042</td>\n",
       "      <td>61</td>\n",
       "      <td>3.84</td>\n",
       "      <td>0.0120</td>\n",
       "    </tr>\n",
       "  </tbody>\n",
       "</table>\n",
       "<p>312 rows × 8 columns</p>\n",
       "</div>"
      ],
      "text/plain": [
       "     SharePrice_USD  Revenue_B_USD  CashFlow_B_USD  DividendYield_Percent  \\\n",
       "0                56          82.05           10.26                 0.0027   \n",
       "1                62          55.51            6.52                 0.0051   \n",
       "2                17          13.35            1.73                 0.0000   \n",
       "3                57          41.61            2.44                 0.0040   \n",
       "4                63          72.16            5.16                 0.0000   \n",
       "..              ...            ...             ...                    ...   \n",
       "307              40          67.82            1.48                 0.0060   \n",
       "308              20          17.11            1.71                 0.0022   \n",
       "309             118          36.38            2.59                 0.0108   \n",
       "310              65          85.42            1.41                 0.0094   \n",
       "311              55          41.44            3.95                 0.0073   \n",
       "\n",
       "     US_Unemployment_Percent  Brent_USD  LNG_USD  US_Interest_Percent  \n",
       "0                      0.053         48     9.89               0.0247  \n",
       "1                      0.053         48     9.89               0.0247  \n",
       "2                      0.053         48     9.89               0.0247  \n",
       "3                      0.053         48     9.89               0.0247  \n",
       "4                      0.053         48     9.89               0.0247  \n",
       "..                       ...        ...      ...                  ...  \n",
       "307                    0.042         61     3.84               0.0120  \n",
       "308                    0.042         61     3.84               0.0120  \n",
       "309                    0.042         61     3.84               0.0120  \n",
       "310                    0.042         61     3.84               0.0120  \n",
       "311                    0.042         61     3.84               0.0120  \n",
       "\n",
       "[312 rows x 8 columns]"
      ]
     },
     "execution_count": 34,
     "metadata": {},
     "output_type": "execute_result"
    }
   ],
   "source": [
    "df = data.drop(data.columns[[0, 1, 2, 3, 5]], axis=1)\n",
    "df"
   ]
  },
  {
   "cell_type": "markdown",
   "metadata": {},
   "source": [
    "## Run New Coefficient Matrix To Make Sure Variables Are Independent \n",
    "*Note: If variables are too highly related it causes Multicollinearity, that can ultimately reduce the importance of independent variables & weaken the linear regression*"
   ]
  },
  {
   "cell_type": "code",
   "execution_count": 35,
   "metadata": {},
   "outputs": [
    {
     "data": {
      "image/png": "[encoded data removed]",
      "text/plain": [
       "<Figure size 432x288 with 2 Axes>"
      ]
     },
     "metadata": {
      "needs_background": "light"
     },
     "output_type": "display_data"
    }
   ],
   "source": [
    "import seaborn as sn\n",
    "import matplotlib.pyplot as plt\n",
    "\n",
    "corrMatrix = df.corr()\n",
    "\n",
    "sn.heatmap(corrMatrix, annot=True)\n",
    "plt.show()"
   ]
  },
  {
   "cell_type": "code",
   "execution_count": 36,
   "metadata": {},
   "outputs": [
    {
     "name": "stdout",
     "output_type": "stream",
     "text": [
      "Shape:  (312, 7) (312, 1)\n"
     ]
    }
   ],
   "source": [
    "# Reshape df variables to be properly read\n",
    "import statsmodels.api as OLS\n",
    "\n",
    "X = df[[\"Revenue_B_USD\", \"CashFlow_B_USD\", \"DividendYield_Percent\", \"US_Unemployment_Percent\", \"Brent_USD\", \"LNG_USD\", \"US_Interest_Percent\"]]\n",
    "y = df[\"SharePrice_USD\"].values.reshape(-1, 1)\n",
    "\n",
    "print(\"Shape: \", X.shape, y.shape)"
   ]
  },
  {
   "cell_type": "markdown",
   "metadata": {},
   "source": [
    "# Print Statistical Summary\n",
    "\n",
    "The Statistical Summary below shows:\n",
    "* Revenue, Cash Flow, Divident Yield, & Unemployment Percent at all above 90% confidence making them significant\n",
    "* Brend Oil Price, LNG Price, & US Interest Rate are all under 90% confidence making them insignificant \n",
    "* R-Squared is low, showing that there is a high chance these variables do not have a strong affect on Share Price"
   ]
  },
  {
   "cell_type": "code",
   "execution_count": 40,
   "metadata": {
    "scrolled": true
   },
   "outputs": [
    {
     "data": {
      "text/html": [
       "<table class=\"simpletable\">\n",
       "<caption>OLS Regression Results</caption>\n",
       "<tr>\n",
       "  <th>Dep. Variable:</th>            <td>y</td>        <th>  R-squared:         </th> <td>   0.363</td>\n",
       "</tr>\n",
       "<tr>\n",
       "  <th>Model:</th>                   <td>OLS</td>       <th>  Adj. R-squared:    </th> <td>   0.348</td>\n",
       "</tr>\n",
       "<tr>\n",
       "  <th>Method:</th>             <td>Least Squares</td>  <th>  F-statistic:       </th> <td>   24.70</td>\n",
       "</tr>\n",
       "<tr>\n",
       "  <th>Date:</th>             <td>Sat, 18 Jul 2020</td> <th>  Prob (F-statistic):</th> <td>1.36e-26</td>\n",
       "</tr>\n",
       "<tr>\n",
       "  <th>Time:</th>                 <td>16:38:57</td>     <th>  Log-Likelihood:    </th> <td> -1379.5</td>\n",
       "</tr>\n",
       "<tr>\n",
       "  <th>No. Observations:</th>      <td>   312</td>      <th>  AIC:               </th> <td>   2775.</td>\n",
       "</tr>\n",
       "<tr>\n",
       "  <th>Df Residuals:</th>          <td>   304</td>      <th>  BIC:               </th> <td>   2805.</td>\n",
       "</tr>\n",
       "<tr>\n",
       "  <th>Df Model:</th>              <td>     7</td>      <th>                     </th>     <td> </td>   \n",
       "</tr>\n",
       "<tr>\n",
       "  <th>Covariance Type:</th>      <td>nonrobust</td>    <th>                     </th>     <td> </td>   \n",
       "</tr>\n",
       "</table>\n",
       "<table class=\"simpletable\">\n",
       "<tr>\n",
       "             <td></td>                <th>coef</th>     <th>std err</th>      <th>t</th>      <th>P>|t|</th>  <th>[0.025</th>    <th>0.975]</th>  \n",
       "</tr>\n",
       "<tr>\n",
       "  <th>const</th>                   <td>   29.6457</td> <td>    6.574</td> <td>    4.510</td> <td> 0.000</td> <td>   16.710</td> <td>   42.582</td>\n",
       "</tr>\n",
       "<tr>\n",
       "  <th>Revenue_B_USD</th>           <td>    0.2458</td> <td>    0.048</td> <td>    5.165</td> <td> 0.000</td> <td>    0.152</td> <td>    0.340</td>\n",
       "</tr>\n",
       "<tr>\n",
       "  <th>CashFlow_B_USD</th>          <td>    0.8659</td> <td>    0.408</td> <td>    2.121</td> <td> 0.035</td> <td>    0.062</td> <td>    1.669</td>\n",
       "</tr>\n",
       "<tr>\n",
       "  <th>DividendYield_Percent</th>   <td> 2795.6558</td> <td>  327.306</td> <td>    8.541</td> <td> 0.000</td> <td> 2151.584</td> <td> 3439.728</td>\n",
       "</tr>\n",
       "<tr>\n",
       "  <th>US_Unemployment_Percent</th> <td> -138.4598</td> <td>   83.933</td> <td>   -1.650</td> <td> 0.100</td> <td> -303.623</td> <td>   26.703</td>\n",
       "</tr>\n",
       "<tr>\n",
       "  <th>Brent_USD</th>               <td>    0.0854</td> <td>    0.057</td> <td>    1.501</td> <td> 0.134</td> <td>   -0.027</td> <td>    0.197</td>\n",
       "</tr>\n",
       "<tr>\n",
       "  <th>LNG_USD</th>                 <td>   -0.2102</td> <td>    0.449</td> <td>   -0.468</td> <td> 0.640</td> <td>   -1.095</td> <td>    0.674</td>\n",
       "</tr>\n",
       "<tr>\n",
       "  <th>US_Interest_Percent</th>     <td>   73.9367</td> <td>  100.513</td> <td>    0.736</td> <td> 0.463</td> <td> -123.852</td> <td>  271.725</td>\n",
       "</tr>\n",
       "</table>\n",
       "<table class=\"simpletable\">\n",
       "<tr>\n",
       "  <th>Omnibus:</th>       <td>20.630</td> <th>  Durbin-Watson:     </th> <td>   2.625</td>\n",
       "</tr>\n",
       "<tr>\n",
       "  <th>Prob(Omnibus):</th> <td> 0.000</td> <th>  Jarque-Bera (JB):  </th> <td>  23.467</td>\n",
       "</tr>\n",
       "<tr>\n",
       "  <th>Skew:</th>          <td> 0.672</td> <th>  Prob(JB):          </th> <td>8.02e-06</td>\n",
       "</tr>\n",
       "<tr>\n",
       "  <th>Kurtosis:</th>      <td> 2.969</td> <th>  Cond. No.          </th> <td>2.99e+04</td>\n",
       "</tr>\n",
       "</table><br/><br/>Warnings:<br/>[1] Standard Errors assume that the covariance matrix of the errors is correctly specified.<br/>[2] The condition number is large, 2.99e+04. This might indicate that there are<br/>strong multicollinearity or other numerical problems."
      ],
      "text/plain": [
       "<class 'statsmodels.iolib.summary.Summary'>\n",
       "\"\"\"\n",
       "                            OLS Regression Results                            \n",
       "==============================================================================\n",
       "Dep. Variable:                      y   R-squared:                       0.363\n",
       "Model:                            OLS   Adj. R-squared:                  0.348\n",
       "Method:                 Least Squares   F-statistic:                     24.70\n",
       "Date:                Sat, 18 Jul 2020   Prob (F-statistic):           1.36e-26\n",
       "Time:                        16:38:57   Log-Likelihood:                -1379.5\n",
       "No. Observations:                 312   AIC:                             2775.\n",
       "Df Residuals:                     304   BIC:                             2805.\n",
       "Df Model:                           7                                         \n",
       "Covariance Type:            nonrobust                                         \n",
       "===========================================================================================\n",
       "                              coef    std err          t      P>|t|      [0.025      0.975]\n",
       "-------------------------------------------------------------------------------------------\n",
       "const                      29.6457      6.574      4.510      0.000      16.710      42.582\n",
       "Revenue_B_USD               0.2458      0.048      5.165      0.000       0.152       0.340\n",
       "CashFlow_B_USD              0.8659      0.408      2.121      0.035       0.062       1.669\n",
       "DividendYield_Percent    2795.6558    327.306      8.541      0.000    2151.584    3439.728\n",
       "US_Unemployment_Percent  -138.4598     83.933     -1.650      0.100    -303.623      26.703\n",
       "Brent_USD                   0.0854      0.057      1.501      0.134      -0.027       0.197\n",
       "LNG_USD                    -0.2102      0.449     -0.468      0.640      -1.095       0.674\n",
       "US_Interest_Percent        73.9367    100.513      0.736      0.463    -123.852     271.725\n",
       "==============================================================================\n",
       "Omnibus:                       20.630   Durbin-Watson:                   2.625\n",
       "Prob(Omnibus):                  0.000   Jarque-Bera (JB):               23.467\n",
       "Skew:                           0.672   Prob(JB):                     8.02e-06\n",
       "Kurtosis:                       2.969   Cond. No.                     2.99e+04\n",
       "==============================================================================\n",
       "\n",
       "Warnings:\n",
       "[1] Standard Errors assume that the covariance matrix of the errors is correctly specified.\n",
       "[2] The condition number is large, 2.99e+04. This might indicate that there are\n",
       "strong multicollinearity or other numerical problems.\n",
       "\"\"\""
      ]
     },
     "execution_count": 40,
     "metadata": {},
     "output_type": "execute_result"
    }
   ],
   "source": [
    "import statsmodels.api as sm\n",
    "\n",
    "X = sm.add_constant(X)\n",
    "results = sm.OLS(y,X).fit()\n",
    "results.summary()  "
   ]
  },
  {
   "cell_type": "markdown",
   "metadata": {},
   "source": [
    "# Residual Plot\n",
    "\n",
    "Use A Residual Plot to Check If Linear Regression Is Applicable\n",
    "* Because data points are randomly scattered around horizontal line, **linear is appropriate**\n",
    "* Had it been a u-shape around the horizontal line, non-linear would have been appropriate"
   ]
  },
  {
   "cell_type": "code",
   "execution_count": 41,
   "metadata": {},
   "outputs": [
    {
     "data": {
      "image/png": "[encoded data removed]",
      "text/plain": [
       "<Figure size 432x288 with 1 Axes>"
      ]
     },
     "metadata": {
      "needs_background": "light"
     },
     "output_type": "display_data"
    }
   ],
   "source": [
    "predictions = model.predict(X)\n",
    "# Plot Residuals\n",
    "plt.scatter(predictions, predictions - y)\n",
    "plt.hlines(y=0, xmin=predictions.min(), xmax=predictions.max())\n",
    "plt.show()"
   ]
  },
  {
   "cell_type": "markdown",
   "metadata": {},
   "source": [
    "# Linear Regression Model \n",
    "\n",
    "\n",
    "**Notes**:\n",
    "* Most favored model for purpose of this data as it shows the relationship of multiple independent variable on one dependent variable\n",
    "* Weak R2 Score shows weak or low effect (.3625)"
   ]
  },
  {
   "cell_type": "code",
   "execution_count": 42,
   "metadata": {},
   "outputs": [
    {
     "name": "stdout",
     "output_type": "stream",
     "text": [
      "R2 Score: 0.3625457174043082\n"
     ]
    }
   ],
   "source": [
    "from sklearn.linear_model import LinearRegression\n",
    "model = LinearRegression()\n",
    "\n",
    "# Fitting our model with all of our features in X\n",
    "model.fit(X, y)\n",
    "\n",
    "score = model.score(X, y)\n",
    "print(f\"R2 Score: {score}\")"
   ]
  },
  {
   "cell_type": "code",
   "execution_count": 43,
   "metadata": {},
   "outputs": [],
   "source": [
    "# Split the data into training and testing\n",
    "\n",
    "from sklearn.model_selection import train_test_split\n",
    "\n",
    "X_train, X_test, y_train, y_test = train_test_split(X, y, random_state=42)"
   ]
  },
  {
   "cell_type": "code",
   "execution_count": 44,
   "metadata": {},
   "outputs": [],
   "source": [
    "from sklearn.preprocessing import StandardScaler\n",
    "\n",
    "# Create a StandardScater model and fit it to the training data\n",
    "\n",
    "X_scaler = StandardScaler().fit(X_train)\n",
    "y_scaler = StandardScaler().fit(y_train)"
   ]
  },
  {
   "cell_type": "code",
   "execution_count": 45,
   "metadata": {},
   "outputs": [],
   "source": [
    "# Transform the training and testing data using the X_scaler and y_scaler models\n",
    "\n",
    "X_train_scaled = X_scaler.transform(X_train)\n",
    "X_test_scaled = X_scaler.transform(X_test)\n",
    "y_train_scaled = y_scaler.transform(y_train)\n",
    "y_test_scaled = y_scaler.transform(y_test)"
   ]
  },
  {
   "cell_type": "markdown",
   "metadata": {},
   "source": [
    "# Test Training vs Testing Data On Residual Plot"
   ]
  },
  {
   "cell_type": "code",
   "execution_count": 46,
   "metadata": {},
   "outputs": [
    {
     "data": {
      "image/png": "[encoded data removed]",
      "text/plain": [
       "<Figure size 432x288 with 1 Axes>"
      ]
     },
     "metadata": {
      "needs_background": "light"
     },
     "output_type": "display_data"
    }
   ],
   "source": [
    "model.fit(X_train_scaled, y_train_scaled)\n",
    "\n",
    "predictions = model.predict(X_test_scaled)\n",
    "model.fit(X_train_scaled, y_train_scaled)\n",
    "plt.scatter(model.predict(X_train_scaled), model.predict(X_train_scaled) - y_train_scaled, c=\"blue\", label=\"Training Data\")\n",
    "plt.scatter(model.predict(X_test_scaled), model.predict(X_test_scaled) - y_test_scaled, c=\"orange\", label=\"Testing Data\")\n",
    "plt.legend()\n",
    "plt.hlines(y=0, xmin=y_test_scaled.min(), xmax=y_test_scaled.max())\n",
    "plt.title(\"Residual Plot\")\n",
    "plt.show()"
   ]
  },
  {
   "cell_type": "markdown",
   "metadata": {},
   "source": [
    "# Calculate Mean Squared Error Using Predicted Data\n",
    "\n",
    "* MSE should be close to zero\n",
    "* Ours is .82 means that there is a lot of variance or bias in the data\n",
    "* We inferred that there is large variance in our data becuase we took out any highly related variable that would cause variance"
   ]
  },
  {
   "cell_type": "code",
   "execution_count": 47,
   "metadata": {},
   "outputs": [
    {
     "name": "stdout",
     "output_type": "stream",
     "text": [
      "MSE: 0.8278855670826071, R2: 0.29443125574021656\n"
     ]
    }
   ],
   "source": [
    "# Use X_test_scaled, y_test_scaled, and model.predict(X_test_scaled) to calculate MSE and R2\n",
    "\n",
    "from sklearn.metrics import mean_squared_error\n",
    "\n",
    "MSE = mean_squared_error(y_test_scaled, predictions)\n",
    "r2 = model.score(X_test_scaled, y_test_scaled)\n",
    "\n",
    "print(f\"MSE: {MSE}, R2: {r2}\")"
   ]
  },
  {
   "cell_type": "markdown",
   "metadata": {},
   "source": [
    "# Lasso Model\n",
    "\n",
    "* MSE should be close to zero\n",
    "* Ours is .82 means that there is a lot of variance or bias in the data\n",
    "* We inferred that there is large variance in our data becuase we took out any highly related variable that would cause variance"
   ]
  },
  {
   "cell_type": "code",
   "execution_count": 48,
   "metadata": {},
   "outputs": [
    {
     "name": "stdout",
     "output_type": "stream",
     "text": [
      "MSE: 0.829220704292338, R2: 0.2932933797801319\n"
     ]
    }
   ],
   "source": [
    "from sklearn.linear_model import Lasso\n",
    "\n",
    "lasso = Lasso(alpha=.01).fit(X_train_scaled, y_train_scaled)\n",
    "\n",
    "predictions = lasso.predict(X_test_scaled)\n",
    "\n",
    "MSE = mean_squared_error(y_test_scaled, predictions)\n",
    "r2 = lasso.score(X_test_scaled, y_test_scaled)\n",
    "\n",
    "print(f\"MSE: {MSE}, R2: {r2}\")"
   ]
  },
  {
   "cell_type": "markdown",
   "metadata": {},
   "source": [
    "# Ridge Model\n",
    "\n",
    "* MSE should be close to zero\n",
    "* Ours is .82 means that there is a lot of variance or bias in the data\n",
    "* We inferred that there is large variance in our data becuase we took out any highly related variable that would cause variance"
   ]
  },
  {
   "cell_type": "code",
   "execution_count": 49,
   "metadata": {},
   "outputs": [
    {
     "name": "stdout",
     "output_type": "stream",
     "text": [
      "MSE: 0.8278845435114596, R2: 0.29443212808276964\n"
     ]
    }
   ],
   "source": [
    "# Ridge model\n",
    "from sklearn.linear_model import Ridge\n",
    "\n",
    "ridge = Ridge(alpha=.01).fit(X_train_scaled, y_train_scaled)\n",
    "\n",
    "predictions = ridge.predict(X_test_scaled)\n",
    "\n",
    "MSE = mean_squared_error(y_test_scaled, predictions)\n",
    "r2 = ridge.score(X_test_scaled, y_test_scaled)\n",
    "\n",
    "print(f\"MSE: {MSE}, R2: {r2}\")"
   ]
  },
  {
   "cell_type": "markdown",
   "metadata": {},
   "source": [
    "# ElasticNet Model\n",
    "\n",
    "* MSE should be close to zero\n",
    "* Ours is .82 means that there is a lot of variance or bias in the data\n",
    "* We inferred that there is large variance in our data becuase we took out any highly related variable that would cause variance"
   ]
  },
  {
   "cell_type": "code",
   "execution_count": 50,
   "metadata": {},
   "outputs": [
    {
     "name": "stdout",
     "output_type": "stream",
     "text": [
      "MSE: 0.8282481239450271, R2: 0.29412226522230966\n"
     ]
    }
   ],
   "source": [
    "# ElasticNet model\n",
    "from sklearn.linear_model import ElasticNet\n",
    "\n",
    "### BEGIN SOLUTION\n",
    "elasticnet = ElasticNet(alpha=.01).fit(X_train_scaled, y_train_scaled)\n",
    "\n",
    "predictions = elasticnet.predict(X_test_scaled)\n",
    "\n",
    "MSE = mean_squared_error(y_test_scaled, predictions)\n",
    "r2 = elasticnet.score(X_test_scaled, y_test_scaled)\n",
    "### END SOLUTION\n",
    "\n",
    "print(f\"MSE: {MSE}, R2: {r2}\")"
   ]
  },
  {
   "cell_type": "markdown",
   "metadata": {},
   "source": [
    "# Decision Tree Model\n",
    "\n",
    "* Score should be close to 1 for 100% accuracy \n",
    "* The score .038 that means there is only 3.8% accuracy\n",
    "* Decision Tree is not the best model for the data set, it is better for non-linear data"
   ]
  },
  {
   "cell_type": "code",
   "execution_count": 51,
   "metadata": {},
   "outputs": [
    {
     "data": {
      "text/plain": [
       "0.07692307692307693"
      ]
     },
     "execution_count": 51,
     "metadata": {},
     "output_type": "execute_result"
    }
   ],
   "source": [
    "# test the decision tree model\n",
    "\n",
    "from sklearn import tree\n",
    "\n",
    "clf = tree.DecisionTreeClassifier()\n",
    "clf = clf.fit(X_train, y_train)\n",
    "clf.score(X_test, y_test)"
   ]
  },
  {
   "cell_type": "markdown",
   "metadata": {},
   "source": [
    "# Random Forest Model\n",
    "\n",
    "* Score should be close to 1 for 100% accuracy \n",
    "* The score .0897 that means there is only 9% accuracy\n",
    "* More accurate than Decision Tree because it is making multiple decision, learning more \n",
    "* Better for non-linear data \n",
    "* From finding feature importance, can see that Revenue, Cash Flow, Dividend Yield aree still the most important \n",
    "* New finding that the model found LNG to be more signifianct and for US Unemployment Percentage to be insignificant "
   ]
  },
  {
   "cell_type": "code",
   "execution_count": 52,
   "metadata": {},
   "outputs": [
    {
     "data": {
      "text/plain": [
       "0.0641025641025641"
      ]
     },
     "execution_count": 52,
     "metadata": {},
     "output_type": "execute_result"
    }
   ],
   "source": [
    "# test the decision random forest classifier model\n",
    "\n",
    "from sklearn.ensemble import RandomForestClassifier\n",
    "rf = RandomForestClassifier(n_estimators=200)\n",
    "rf = rf.fit(X_train, y_train)\n",
    "rf.score(X_test, y_test)"
   ]
  },
  {
   "cell_type": "code",
   "execution_count": 53,
   "metadata": {},
   "outputs": [
    {
     "data": {
      "text/plain": [
       "[(0.2112505399387572, 'Revenue_B_USD'),\n",
       " (0.18880247150436957, 'CashFlow_B_USD'),\n",
       " (0.1576175483737382, 'DividendYield_Percent'),\n",
       " (0.12080500553989988, 'LNG_USD'),\n",
       " (0.1133027750472492, 'Brent_USD'),\n",
       " (0.10541455635687204, 'US_Unemployment_Percent'),\n",
       " (0.10280710323911388, 'US_Interest_Percent'),\n",
       " (0.0, 'SharePrice_USD')]"
      ]
     },
     "execution_count": 53,
     "metadata": {},
     "output_type": "execute_result"
    }
   ],
   "source": [
    "# find the most important variables as found in the random forest\n",
    "feature_names = df.columns\n",
    "\n",
    "sorted(zip(rf.feature_importances_, feature_names), reverse=True) "
   ]
  },
  {
   "cell_type": "code",
   "execution_count": 54,
   "metadata": {
    "scrolled": true
   },
   "outputs": [],
   "source": [
    "#load the data\n",
    "data = pd.read_csv('Resources/P3_Data_Univariate.csv')"
   ]
  },
  {
   "cell_type": "markdown",
   "metadata": {},
   "source": [
    "# Forecast Last Few Quarters of Share Prices\n",
    "### Use Auto Arima to split univariable data of just Quarter & Share Price to predict future Share Price"
   ]
  },
  {
   "cell_type": "code",
   "execution_count": 55,
   "metadata": {},
   "outputs": [
    {
     "data": {
      "text/plain": [
       "<matplotlib.axes._subplots.AxesSubplot at 0x144d75b50>"
      ]
     },
     "execution_count": 55,
     "metadata": {},
     "output_type": "execute_result"
    },
    {
     "data": {
      "image/png": "[encoded data removed]",
      "text/plain": [
       "<Figure size 432x288 with 1 Axes>"
      ]
     },
     "metadata": {
      "needs_background": "light"
     },
     "output_type": "display_data"
    }
   ],
   "source": [
    "#divide into train and validation set\n",
    "train = data[:int(0.95*(len(data)))]\n",
    "valid = data[int(0.95*(len(data))):]\n",
    "\n",
    "#preprocessing (since arima takes univariate series as input)\n",
    "train.drop('Date',axis=1,inplace=True)\n",
    "valid.drop('Date',axis=1,inplace=True)\n",
    "\n",
    "#plotting the data\n",
    "train['SharePrice_USD'].plot()\n",
    "valid['SharePrice_USD'].plot()"
   ]
  },
  {
   "cell_type": "code",
   "execution_count": 56,
   "metadata": {},
   "outputs": [
    {
     "name": "stdout",
     "output_type": "stream",
     "text": [
      "Performing stepwise search to minimize aic\n",
      "Fit ARIMA(2,0,2)x(0,0,0,0) [intercept=True]; AIC=2442.845, BIC=2464.988, Time=0.302 seconds\n",
      "Fit ARIMA(0,0,0)x(0,0,0,0) [intercept=True]; AIC=2746.692, BIC=2754.073, Time=0.007 seconds\n",
      "Fit ARIMA(1,0,0)x(0,0,0,0) [intercept=True]; AIC=2737.448, BIC=2748.519, Time=0.015 seconds\n",
      "Fit ARIMA(0,0,1)x(0,0,0,0) [intercept=True]; AIC=2728.863, BIC=2739.934, Time=0.048 seconds\n",
      "Fit ARIMA(0,0,0)x(0,0,0,0) [intercept=False]; AIC=3320.771, BIC=3324.461, Time=0.005 seconds\n",
      "Fit ARIMA(1,0,2)x(0,0,0,0) [intercept=True]; AIC=2704.355, BIC=2722.807, Time=0.209 seconds\n",
      "Fit ARIMA(2,0,1)x(0,0,0,0) [intercept=True]; AIC=2660.795, BIC=2679.247, Time=0.250 seconds\n",
      "Fit ARIMA(3,0,2)x(0,0,0,0) [intercept=True]; AIC=2438.925, BIC=2464.758, Time=0.339 seconds\n",
      "Fit ARIMA(3,0,1)x(0,0,0,0) [intercept=True]; AIC=2633.292, BIC=2655.434, Time=0.240 seconds\n",
      "Fit ARIMA(4,0,2)x(0,0,0,0) [intercept=True]; AIC=2536.917, BIC=2566.440, Time=0.374 seconds\n",
      "Fit ARIMA(3,0,3)x(0,0,0,0) [intercept=True]; AIC=2438.324, BIC=2467.847, Time=0.372 seconds\n",
      "Near non-invertible roots for order (3, 0, 3)(0, 0, 0, 0); setting score to inf (at least one inverse root too close to the border of the unit circle: 0.999)\n",
      "Fit ARIMA(2,0,3)x(0,0,0,0) [intercept=True]; AIC=2553.678, BIC=2579.511, Time=0.329 seconds\n",
      "Near non-invertible roots for order (2, 0, 3)(0, 0, 0, 0); setting score to inf (at least one inverse root too close to the border of the unit circle: 1.000)\n",
      "Fit ARIMA(4,0,1)x(0,0,0,0) [intercept=True]; AIC=2609.368, BIC=2635.201, Time=0.172 seconds\n",
      "Fit ARIMA(4,0,3)x(0,0,0,0) [intercept=True]; AIC=2394.584, BIC=2427.797, Time=0.421 seconds\n",
      "Near non-invertible roots for order (4, 0, 3)(0, 0, 0, 0); setting score to inf (at least one inverse root too close to the border of the unit circle: 0.999)\n",
      "Total fit time: 3.090 seconds\n"
     ]
    },
    {
     "data": {
      "image/png": "[encoded data removed]",
      "text/plain": [
       "<Figure size 432x288 with 1 Axes>"
      ]
     },
     "metadata": {
      "needs_background": "light"
     },
     "output_type": "display_data"
    }
   ],
   "source": [
    "#building the model\n",
    "from pmdarima import auto_arima\n",
    "model = auto_arima(train, trace=True, error_action='ignore', suppress_warnings=True)\n",
    "model.fit(train)\n",
    "\n",
    "forecast = model.predict(n_periods=len(valid))\n",
    "forecast = pd.DataFrame(forecast,index = valid.index,columns=['Prediction'])\n",
    "\n",
    "#plot the predictions for validation set\n",
    "plt.plot(train, label='Train')\n",
    "plt.plot(valid, label='Valid')\n",
    "plt.plot(forecast, label='Prediction')\n",
    "plt.show()"
   ]
  },
  {
   "cell_type": "code",
   "execution_count": 57,
   "metadata": {},
   "outputs": [],
   "source": [
    "# Load in predicted vs actual data to plot\n",
    "\n",
    "predicted_df = pd.read_csv('Resources/valid_predicted.csv')"
   ]
  },
  {
   "cell_type": "markdown",
   "metadata": {},
   "source": [
    "# Use Predicted Outputs to Plot Difference Between Predicted & Actual\n",
    "* Each company is plotted as single data point in respective quarter \n",
    "* Half of 2017 Q2 data, all 2017 Q3 data, & all 2017 Q4 data"
   ]
  },
  {
   "cell_type": "code",
   "execution_count": 58,
   "metadata": {
    "scrolled": true
   },
   "outputs": [
    {
     "data": {
      "application/vnd.plotly.v1+json": {
       "config": {
        "plotlyServerURL": "https://plot.ly"
       },
       "data": [
        {
         "mode": "lines",
         "name": "Actual Share Price",
         "type": "scatter",
         "x": [
          0,
          1,
          2,
          3,
          4,
          5,
          6,
          7,
          8,
          9,
          10,
          11,
          12,
          13,
          14,
          15
         ],
         "y": [
          17,
          106,
          56,
          52,
          79,
          35,
          18,
          109,
          57,
          51,
          83,
          40,
          20,
          118,
          65,
          55
         ]
        },
        {
         "mode": "lines",
         "name": "Predicted Share Price",
         "type": "scatter",
         "x": [
          0,
          1,
          2,
          3,
          4,
          5,
          6,
          7,
          8,
          9,
          10,
          11,
          12,
          13,
          14,
          15
         ],
         "y": [
          34.63322267,
          92.00649213,
          49.61030791,
          44.9499169,
          94.41592209,
          48.03492561,
          42.20279221,
          91.37990667,
          47.23430192,
          42.88730263,
          91.49077531,
          47.96177337,
          43.59704454,
          90.90556898,
          47.9509316,
          43.88666355
         ]
        }
       ],
       "layout": {
        "template": {
         "data": {
          "bar": [
           {
            "error_x": {
             "color": "#2a3f5f"
            },
            "error_y": {
             "color": "#2a3f5f"
            },
            "marker": {
             "line": {
              "color": "#E5ECF6",
              "width": 0.5
             }
            },
            "type": "bar"
           }
          ],
          "barpolar": [
           {
            "marker": {
             "line": {
              "color": "#E5ECF6",
              "width": 0.5
             }
            },
            "type": "barpolar"
           }
          ],
          "carpet": [
           {
            "aaxis": {
             "endlinecolor": "#2a3f5f",
             "gridcolor": "white",
             "linecolor": "white",
             "minorgridcolor": "white",
             "startlinecolor": "#2a3f5f"
            },
            "baxis": {
             "endlinecolor": "#2a3f5f",
             "gridcolor": "white",
             "linecolor": "white",
             "minorgridcolor": "white",
             "startlinecolor": "#2a3f5f"
            },
            "type": "carpet"
           }
          ],
          "choropleth": [
           {
            "colorbar": {
             "outlinewidth": 0,
             "ticks": ""
            },
            "type": "choropleth"
           }
          ],
          "contour": [
           {
            "colorbar": {
             "outlinewidth": 0,
             "ticks": ""
            },
            "colorscale": [
             [
              0,
              "#0d0887"
             ],
             [
              0.1111111111111111,
              "#46039f"
             ],
             [
              0.2222222222222222,
              "#7201a8"
             ],
             [
              0.3333333333333333,
              "#9c179e"
             ],
             [
              0.4444444444444444,
              "#bd3786"
             ],
             [
              0.5555555555555556,
              "#d8576b"
             ],
             [
              0.6666666666666666,
              "#ed7953"
             ],
             [
              0.7777777777777778,
              "#fb9f3a"
             ],
             [
              0.8888888888888888,
              "#fdca26"
             ],
             [
              1,
              "#f0f921"
             ]
            ],
            "type": "contour"
           }
          ],
          "contourcarpet": [
           {
            "colorbar": {
             "outlinewidth": 0,
             "ticks": ""
            },
            "type": "contourcarpet"
           }
          ],
          "heatmap": [
           {
            "colorbar": {
             "outlinewidth": 0,
             "ticks": ""
            },
            "colorscale": [
             [
              0,
              "#0d0887"
             ],
             [
              0.1111111111111111,
              "#46039f"
             ],
             [
              0.2222222222222222,
              "#7201a8"
             ],
             [
              0.3333333333333333,
              "#9c179e"
             ],
             [
              0.4444444444444444,
              "#bd3786"
             ],
             [
              0.5555555555555556,
              "#d8576b"
             ],
             [
              0.6666666666666666,
              "#ed7953"
             ],
             [
              0.7777777777777778,
              "#fb9f3a"
             ],
             [
              0.8888888888888888,
              "#fdca26"
             ],
             [
              1,
              "#f0f921"
             ]
            ],
            "type": "heatmap"
           }
          ],
          "heatmapgl": [
           {
            "colorbar": {
             "outlinewidth": 0,
             "ticks": ""
            },
            "colorscale": [
             [
              0,
              "#0d0887"
             ],
             [
              0.1111111111111111,
              "#46039f"
             ],
             [
              0.2222222222222222,
              "#7201a8"
             ],
             [
              0.3333333333333333,
              "#9c179e"
             ],
             [
              0.4444444444444444,
              "#bd3786"
             ],
             [
              0.5555555555555556,
              "#d8576b"
             ],
             [
              0.6666666666666666,
              "#ed7953"
             ],
             [
              0.7777777777777778,
              "#fb9f3a"
             ],
             [
              0.8888888888888888,
              "#fdca26"
             ],
             [
              1,
              "#f0f921"
             ]
            ],
            "type": "heatmapgl"
           }
          ],
          "histogram": [
           {
            "marker": {
             "colorbar": {
              "outlinewidth": 0,
              "ticks": ""
             }
            },
            "type": "histogram"
           }
          ],
          "histogram2d": [
           {
            "colorbar": {
             "outlinewidth": 0,
             "ticks": ""
            },
            "colorscale": [
             [
              0,
              "#0d0887"
             ],
             [
              0.1111111111111111,
              "#46039f"
             ],
             [
              0.2222222222222222,
              "#7201a8"
             ],
             [
              0.3333333333333333,
              "#9c179e"
             ],
             [
              0.4444444444444444,
              "#bd3786"
             ],
             [
              0.5555555555555556,
              "#d8576b"
             ],
             [
              0.6666666666666666,
              "#ed7953"
             ],
             [
              0.7777777777777778,
              "#fb9f3a"
             ],
             [
              0.8888888888888888,
              "#fdca26"
             ],
             [
              1,
              "#f0f921"
             ]
            ],
            "type": "histogram2d"
           }
          ],
          "histogram2dcontour": [
           {
            "colorbar": {
             "outlinewidth": 0,
             "ticks": ""
            },
            "colorscale": [
             [
              0,
              "#0d0887"
             ],
             [
              0.1111111111111111,
              "#46039f"
             ],
             [
              0.2222222222222222,
              "#7201a8"
             ],
             [
              0.3333333333333333,
              "#9c179e"
             ],
             [
              0.4444444444444444,
              "#bd3786"
             ],
             [
              0.5555555555555556,
              "#d8576b"
             ],
             [
              0.6666666666666666,
              "#ed7953"
             ],
             [
              0.7777777777777778,
              "#fb9f3a"
             ],
             [
              0.8888888888888888,
              "#fdca26"
             ],
             [
              1,
              "#f0f921"
             ]
            ],
            "type": "histogram2dcontour"
           }
          ],
          "mesh3d": [
           {
            "colorbar": {
             "outlinewidth": 0,
             "ticks": ""
            },
            "type": "mesh3d"
           }
          ],
          "parcoords": [
           {
            "line": {
             "colorbar": {
              "outlinewidth": 0,
              "ticks": ""
             }
            },
            "type": "parcoords"
           }
          ],
          "pie": [
           {
            "automargin": true,
            "type": "pie"
           }
          ],
          "scatter": [
           {
            "marker": {
             "colorbar": {
              "outlinewidth": 0,
              "ticks": ""
             }
            },
            "type": "scatter"
           }
          ],
          "scatter3d": [
           {
            "line": {
             "colorbar": {
              "outlinewidth": 0,
              "ticks": ""
             }
            },
            "marker": {
             "colorbar": {
              "outlinewidth": 0,
              "ticks": ""
             }
            },
            "type": "scatter3d"
           }
          ],
          "scattercarpet": [
           {
            "marker": {
             "colorbar": {
              "outlinewidth": 0,
              "ticks": ""
             }
            },
            "type": "scattercarpet"
           }
          ],
          "scattergeo": [
           {
            "marker": {
             "colorbar": {
              "outlinewidth": 0,
              "ticks": ""
             }
            },
            "type": "scattergeo"
           }
          ],
          "scattergl": [
           {
            "marker": {
             "colorbar": {
              "outlinewidth": 0,
              "ticks": ""
             }
            },
            "type": "scattergl"
           }
          ],
          "scattermapbox": [
           {
            "marker": {
             "colorbar": {
              "outlinewidth": 0,
              "ticks": ""
             }
            },
            "type": "scattermapbox"
           }
          ],
          "scatterpolar": [
           {
            "marker": {
             "colorbar": {
              "outlinewidth": 0,
              "ticks": ""
             }
            },
            "type": "scatterpolar"
           }
          ],
          "scatterpolargl": [
           {
            "marker": {
             "colorbar": {
              "outlinewidth": 0,
              "ticks": ""
             }
            },
            "type": "scatterpolargl"
           }
          ],
          "scatterternary": [
           {
            "marker": {
             "colorbar": {
              "outlinewidth": 0,
              "ticks": ""
             }
            },
            "type": "scatterternary"
           }
          ],
          "surface": [
           {
            "colorbar": {
             "outlinewidth": 0,
             "ticks": ""
            },
            "colorscale": [
             [
              0,
              "#0d0887"
             ],
             [
              0.1111111111111111,
              "#46039f"
             ],
             [
              0.2222222222222222,
              "#7201a8"
             ],
             [
              0.3333333333333333,
              "#9c179e"
             ],
             [
              0.4444444444444444,
              "#bd3786"
             ],
             [
              0.5555555555555556,
              "#d8576b"
             ],
             [
              0.6666666666666666,
              "#ed7953"
             ],
             [
              0.7777777777777778,
              "#fb9f3a"
             ],
             [
              0.8888888888888888,
              "#fdca26"
             ],
             [
              1,
              "#f0f921"
             ]
            ],
            "type": "surface"
           }
          ],
          "table": [
           {
            "cells": {
             "fill": {
              "color": "#EBF0F8"
             },
             "line": {
              "color": "white"
             }
            },
            "header": {
             "fill": {
              "color": "#C8D4E3"
             },
             "line": {
              "color": "white"
             }
            },
            "type": "table"
           }
          ]
         },
         "layout": {
          "annotationdefaults": {
           "arrowcolor": "#2a3f5f",
           "arrowhead": 0,
           "arrowwidth": 1
          },
          "coloraxis": {
           "colorbar": {
            "outlinewidth": 0,
            "ticks": ""
           }
          },
          "colorscale": {
           "diverging": [
            [
             0,
             "#8e0152"
            ],
            [
             0.1,
             "#c51b7d"
            ],
            [
             0.2,
             "#de77ae"
            ],
            [
             0.3,
             "#f1b6da"
            ],
            [
             0.4,
             "#fde0ef"
            ],
            [
             0.5,
             "#f7f7f7"
            ],
            [
             0.6,
             "#e6f5d0"
            ],
            [
             0.7,
             "#b8e186"
            ],
            [
             0.8,
             "#7fbc41"
            ],
            [
             0.9,
             "#4d9221"
            ],
            [
             1,
             "#276419"
            ]
           ],
           "sequential": [
            [
             0,
             "#0d0887"
            ],
            [
             0.1111111111111111,
             "#46039f"
            ],
            [
             0.2222222222222222,
             "#7201a8"
            ],
            [
             0.3333333333333333,
             "#9c179e"
            ],
            [
             0.4444444444444444,
             "#bd3786"
            ],
            [
             0.5555555555555556,
             "#d8576b"
            ],
            [
             0.6666666666666666,
             "#ed7953"
            ],
            [
             0.7777777777777778,
             "#fb9f3a"
            ],
            [
             0.8888888888888888,
             "#fdca26"
            ],
            [
             1,
             "#f0f921"
            ]
           ],
           "sequentialminus": [
            [
             0,
             "#0d0887"
            ],
            [
             0.1111111111111111,
             "#46039f"
            ],
            [
             0.2222222222222222,
             "#7201a8"
            ],
            [
             0.3333333333333333,
             "#9c179e"
            ],
            [
             0.4444444444444444,
             "#bd3786"
            ],
            [
             0.5555555555555556,
             "#d8576b"
            ],
            [
             0.6666666666666666,
             "#ed7953"
            ],
            [
             0.7777777777777778,
             "#fb9f3a"
            ],
            [
             0.8888888888888888,
             "#fdca26"
            ],
            [
             1,
             "#f0f921"
            ]
           ]
          },
          "colorway": [
           "#636efa",
           "#EF553B",
           "#00cc96",
           "#ab63fa",
           "#FFA15A",
           "#19d3f3",
           "#FF6692",
           "#B6E880",
           "#FF97FF",
           "#FECB52"
          ],
          "font": {
           "color": "#2a3f5f"
          },
          "geo": {
           "bgcolor": "white",
           "lakecolor": "white",
           "landcolor": "#E5ECF6",
           "showlakes": true,
           "showland": true,
           "subunitcolor": "white"
          },
          "hoverlabel": {
           "align": "left"
          },
          "hovermode": "closest",
          "mapbox": {
           "style": "light"
          },
          "paper_bgcolor": "white",
          "plot_bgcolor": "#E5ECF6",
          "polar": {
           "angularaxis": {
            "gridcolor": "white",
            "linecolor": "white",
            "ticks": ""
           },
           "bgcolor": "#E5ECF6",
           "radialaxis": {
            "gridcolor": "white",
            "linecolor": "white",
            "ticks": ""
           }
          },
          "scene": {
           "xaxis": {
            "backgroundcolor": "#E5ECF6",
            "gridcolor": "white",
            "gridwidth": 2,
            "linecolor": "white",
            "showbackground": true,
            "ticks": "",
            "zerolinecolor": "white"
           },
           "yaxis": {
            "backgroundcolor": "#E5ECF6",
            "gridcolor": "white",
            "gridwidth": 2,
            "linecolor": "white",
            "showbackground": true,
            "ticks": "",
            "zerolinecolor": "white"
           },
           "zaxis": {
            "backgroundcolor": "#E5ECF6",
            "gridcolor": "white",
            "gridwidth": 2,
            "linecolor": "white",
            "showbackground": true,
            "ticks": "",
            "zerolinecolor": "white"
           }
          },
          "shapedefaults": {
           "line": {
            "color": "#2a3f5f"
           }
          },
          "ternary": {
           "aaxis": {
            "gridcolor": "white",
            "linecolor": "white",
            "ticks": ""
           },
           "baxis": {
            "gridcolor": "white",
            "linecolor": "white",
            "ticks": ""
           },
           "bgcolor": "#E5ECF6",
           "caxis": {
            "gridcolor": "white",
            "linecolor": "white",
            "ticks": ""
           }
          },
          "title": {
           "x": 0.05
          },
          "xaxis": {
           "automargin": true,
           "gridcolor": "white",
           "linecolor": "white",
           "ticks": "",
           "title": {
            "standoff": 15
           },
           "zerolinecolor": "white",
           "zerolinewidth": 2
          },
          "yaxis": {
           "automargin": true,
           "gridcolor": "white",
           "linecolor": "white",
           "ticks": "",
           "title": {
            "standoff": 15
           },
           "zerolinecolor": "white",
           "zerolinewidth": 2
          }
         }
        },
        "title": {
         "text": "Actual vs Predicted Share Prices For 2.5 Quarters"
        },
        "xaxis": {
         "title": {
          "text": "Q2 2017 - Q4 2017 Inidivual Quarters"
         }
        },
        "yaxis": {
         "title": {
          "text": "Share Price"
         }
        }
       }
      },
      "text/html": [
       "<div>\n",
       "        \n",
       "        \n",
       "            <div id=\"e790ebbf-6a67-43d0-b8f8-f757c16eb971\" class=\"plotly-graph-div\" style=\"height:525px; width:100%;\"></div>\n",
       "            <script type=\"text/javascript\">\n",
       "                require([\"plotly\"], function(Plotly) {\n",
       "                    window.PLOTLYENV=window.PLOTLYENV || {};\n",
       "                    \n",
       "                if (document.getElementById(\"e790ebbf-6a67-43d0-b8f8-f757c16eb971\")) {\n",
       "                    Plotly.newPlot(\n",
       "                        'e790ebbf-6a67-43d0-b8f8-f757c16eb971',\n",
       "                        [{\"mode\": \"lines\", \"name\": \"Actual Share Price\", \"type\": \"scatter\", \"x\": [0, 1, 2, 3, 4, 5, 6, 7, 8, 9, 10, 11, 12, 13, 14, 15], \"y\": [17, 106, 56, 52, 79, 35, 18, 109, 57, 51, 83, 40, 20, 118, 65, 55]}, {\"mode\": \"lines\", \"name\": \"Predicted Share Price\", \"type\": \"scatter\", \"x\": [0, 1, 2, 3, 4, 5, 6, 7, 8, 9, 10, 11, 12, 13, 14, 15], \"y\": [34.63322267, 92.00649213, 49.61030791, 44.9499169, 94.41592209, 48.03492561, 42.20279221, 91.37990667, 47.23430192, 42.88730263, 91.49077531, 47.96177337, 43.59704454, 90.90556898, 47.9509316, 43.88666355]}],\n",
       "                        {\"template\": {\"data\": {\"bar\": [{\"error_x\": {\"color\": \"#2a3f5f\"}, \"error_y\": {\"color\": \"#2a3f5f\"}, \"marker\": {\"line\": {\"color\": \"#E5ECF6\", \"width\": 0.5}}, \"type\": \"bar\"}], \"barpolar\": [{\"marker\": {\"line\": {\"color\": \"#E5ECF6\", \"width\": 0.5}}, \"type\": \"barpolar\"}], \"carpet\": [{\"aaxis\": {\"endlinecolor\": \"#2a3f5f\", \"gridcolor\": \"white\", \"linecolor\": \"white\", \"minorgridcolor\": \"white\", \"startlinecolor\": \"#2a3f5f\"}, \"baxis\": {\"endlinecolor\": \"#2a3f5f\", \"gridcolor\": \"white\", \"linecolor\": \"white\", \"minorgridcolor\": \"white\", \"startlinecolor\": \"#2a3f5f\"}, \"type\": \"carpet\"}], \"choropleth\": [{\"colorbar\": {\"outlinewidth\": 0, \"ticks\": \"\"}, \"type\": \"choropleth\"}], \"contour\": [{\"colorbar\": {\"outlinewidth\": 0, \"ticks\": \"\"}, \"colorscale\": [[0.0, \"#0d0887\"], [0.1111111111111111, \"#46039f\"], [0.2222222222222222, \"#7201a8\"], [0.3333333333333333, \"#9c179e\"], [0.4444444444444444, \"#bd3786\"], [0.5555555555555556, \"#d8576b\"], [0.6666666666666666, \"#ed7953\"], [0.7777777777777778, \"#fb9f3a\"], [0.8888888888888888, \"#fdca26\"], [1.0, \"#f0f921\"]], \"type\": \"contour\"}], \"contourcarpet\": [{\"colorbar\": {\"outlinewidth\": 0, \"ticks\": \"\"}, \"type\": \"contourcarpet\"}], \"heatmap\": [{\"colorbar\": {\"outlinewidth\": 0, \"ticks\": \"\"}, \"colorscale\": [[0.0, \"#0d0887\"], [0.1111111111111111, \"#46039f\"], [0.2222222222222222, \"#7201a8\"], [0.3333333333333333, \"#9c179e\"], [0.4444444444444444, \"#bd3786\"], [0.5555555555555556, \"#d8576b\"], [0.6666666666666666, \"#ed7953\"], [0.7777777777777778, \"#fb9f3a\"], [0.8888888888888888, \"#fdca26\"], [1.0, \"#f0f921\"]], \"type\": \"heatmap\"}], \"heatmapgl\": [{\"colorbar\": {\"outlinewidth\": 0, \"ticks\": \"\"}, \"colorscale\": [[0.0, \"#0d0887\"], [0.1111111111111111, \"#46039f\"], [0.2222222222222222, \"#7201a8\"], [0.3333333333333333, \"#9c179e\"], [0.4444444444444444, \"#bd3786\"], [0.5555555555555556, \"#d8576b\"], [0.6666666666666666, \"#ed7953\"], [0.7777777777777778, \"#fb9f3a\"], [0.8888888888888888, \"#fdca26\"], [1.0, \"#f0f921\"]], \"type\": \"heatmapgl\"}], \"histogram\": [{\"marker\": {\"colorbar\": {\"outlinewidth\": 0, \"ticks\": \"\"}}, \"type\": \"histogram\"}], \"histogram2d\": [{\"colorbar\": {\"outlinewidth\": 0, \"ticks\": \"\"}, \"colorscale\": [[0.0, \"#0d0887\"], [0.1111111111111111, \"#46039f\"], [0.2222222222222222, \"#7201a8\"], [0.3333333333333333, \"#9c179e\"], [0.4444444444444444, \"#bd3786\"], [0.5555555555555556, \"#d8576b\"], [0.6666666666666666, \"#ed7953\"], [0.7777777777777778, \"#fb9f3a\"], [0.8888888888888888, \"#fdca26\"], [1.0, \"#f0f921\"]], \"type\": \"histogram2d\"}], \"histogram2dcontour\": [{\"colorbar\": {\"outlinewidth\": 0, \"ticks\": \"\"}, \"colorscale\": [[0.0, \"#0d0887\"], [0.1111111111111111, \"#46039f\"], [0.2222222222222222, \"#7201a8\"], [0.3333333333333333, \"#9c179e\"], [0.4444444444444444, \"#bd3786\"], [0.5555555555555556, \"#d8576b\"], [0.6666666666666666, \"#ed7953\"], [0.7777777777777778, \"#fb9f3a\"], [0.8888888888888888, \"#fdca26\"], [1.0, \"#f0f921\"]], \"type\": \"histogram2dcontour\"}], \"mesh3d\": [{\"colorbar\": {\"outlinewidth\": 0, \"ticks\": \"\"}, \"type\": \"mesh3d\"}], \"parcoords\": [{\"line\": {\"colorbar\": {\"outlinewidth\": 0, \"ticks\": \"\"}}, \"type\": \"parcoords\"}], \"pie\": [{\"automargin\": true, \"type\": \"pie\"}], \"scatter\": [{\"marker\": {\"colorbar\": {\"outlinewidth\": 0, \"ticks\": \"\"}}, \"type\": \"scatter\"}], \"scatter3d\": [{\"line\": {\"colorbar\": {\"outlinewidth\": 0, \"ticks\": \"\"}}, \"marker\": {\"colorbar\": {\"outlinewidth\": 0, \"ticks\": \"\"}}, \"type\": \"scatter3d\"}], \"scattercarpet\": [{\"marker\": {\"colorbar\": {\"outlinewidth\": 0, \"ticks\": \"\"}}, \"type\": \"scattercarpet\"}], \"scattergeo\": [{\"marker\": {\"colorbar\": {\"outlinewidth\": 0, \"ticks\": \"\"}}, \"type\": \"scattergeo\"}], \"scattergl\": [{\"marker\": {\"colorbar\": {\"outlinewidth\": 0, \"ticks\": \"\"}}, \"type\": \"scattergl\"}], \"scattermapbox\": [{\"marker\": {\"colorbar\": {\"outlinewidth\": 0, \"ticks\": \"\"}}, \"type\": \"scattermapbox\"}], \"scatterpolar\": [{\"marker\": {\"colorbar\": {\"outlinewidth\": 0, \"ticks\": \"\"}}, \"type\": \"scatterpolar\"}], \"scatterpolargl\": [{\"marker\": {\"colorbar\": {\"outlinewidth\": 0, \"ticks\": \"\"}}, \"type\": \"scatterpolargl\"}], \"scatterternary\": [{\"marker\": {\"colorbar\": {\"outlinewidth\": 0, \"ticks\": \"\"}}, \"type\": \"scatterternary\"}], \"surface\": [{\"colorbar\": {\"outlinewidth\": 0, \"ticks\": \"\"}, \"colorscale\": [[0.0, \"#0d0887\"], [0.1111111111111111, \"#46039f\"], [0.2222222222222222, \"#7201a8\"], [0.3333333333333333, \"#9c179e\"], [0.4444444444444444, \"#bd3786\"], [0.5555555555555556, \"#d8576b\"], [0.6666666666666666, \"#ed7953\"], [0.7777777777777778, \"#fb9f3a\"], [0.8888888888888888, \"#fdca26\"], [1.0, \"#f0f921\"]], \"type\": \"surface\"}], \"table\": [{\"cells\": {\"fill\": {\"color\": \"#EBF0F8\"}, \"line\": {\"color\": \"white\"}}, \"header\": {\"fill\": {\"color\": \"#C8D4E3\"}, \"line\": {\"color\": \"white\"}}, \"type\": \"table\"}]}, \"layout\": {\"annotationdefaults\": {\"arrowcolor\": \"#2a3f5f\", \"arrowhead\": 0, \"arrowwidth\": 1}, \"coloraxis\": {\"colorbar\": {\"outlinewidth\": 0, \"ticks\": \"\"}}, \"colorscale\": {\"diverging\": [[0, \"#8e0152\"], [0.1, \"#c51b7d\"], [0.2, \"#de77ae\"], [0.3, \"#f1b6da\"], [0.4, \"#fde0ef\"], [0.5, \"#f7f7f7\"], [0.6, \"#e6f5d0\"], [0.7, \"#b8e186\"], [0.8, \"#7fbc41\"], [0.9, \"#4d9221\"], [1, \"#276419\"]], \"sequential\": [[0.0, \"#0d0887\"], [0.1111111111111111, \"#46039f\"], [0.2222222222222222, \"#7201a8\"], [0.3333333333333333, \"#9c179e\"], [0.4444444444444444, \"#bd3786\"], [0.5555555555555556, \"#d8576b\"], [0.6666666666666666, \"#ed7953\"], [0.7777777777777778, \"#fb9f3a\"], [0.8888888888888888, \"#fdca26\"], [1.0, \"#f0f921\"]], \"sequentialminus\": [[0.0, \"#0d0887\"], [0.1111111111111111, \"#46039f\"], [0.2222222222222222, \"#7201a8\"], [0.3333333333333333, \"#9c179e\"], [0.4444444444444444, \"#bd3786\"], [0.5555555555555556, \"#d8576b\"], [0.6666666666666666, \"#ed7953\"], [0.7777777777777778, \"#fb9f3a\"], [0.8888888888888888, \"#fdca26\"], [1.0, \"#f0f921\"]]}, \"colorway\": [\"#636efa\", \"#EF553B\", \"#00cc96\", \"#ab63fa\", \"#FFA15A\", \"#19d3f3\", \"#FF6692\", \"#B6E880\", \"#FF97FF\", \"#FECB52\"], \"font\": {\"color\": \"#2a3f5f\"}, \"geo\": {\"bgcolor\": \"white\", \"lakecolor\": \"white\", \"landcolor\": \"#E5ECF6\", \"showlakes\": true, \"showland\": true, \"subunitcolor\": \"white\"}, \"hoverlabel\": {\"align\": \"left\"}, \"hovermode\": \"closest\", \"mapbox\": {\"style\": \"light\"}, \"paper_bgcolor\": \"white\", \"plot_bgcolor\": \"#E5ECF6\", \"polar\": {\"angularaxis\": {\"gridcolor\": \"white\", \"linecolor\": \"white\", \"ticks\": \"\"}, \"bgcolor\": \"#E5ECF6\", \"radialaxis\": {\"gridcolor\": \"white\", \"linecolor\": \"white\", \"ticks\": \"\"}}, \"scene\": {\"xaxis\": {\"backgroundcolor\": \"#E5ECF6\", \"gridcolor\": \"white\", \"gridwidth\": 2, \"linecolor\": \"white\", \"showbackground\": true, \"ticks\": \"\", \"zerolinecolor\": \"white\"}, \"yaxis\": {\"backgroundcolor\": \"#E5ECF6\", \"gridcolor\": \"white\", \"gridwidth\": 2, \"linecolor\": \"white\", \"showbackground\": true, \"ticks\": \"\", \"zerolinecolor\": \"white\"}, \"zaxis\": {\"backgroundcolor\": \"#E5ECF6\", \"gridcolor\": \"white\", \"gridwidth\": 2, \"linecolor\": \"white\", \"showbackground\": true, \"ticks\": \"\", \"zerolinecolor\": \"white\"}}, \"shapedefaults\": {\"line\": {\"color\": \"#2a3f5f\"}}, \"ternary\": {\"aaxis\": {\"gridcolor\": \"white\", \"linecolor\": \"white\", \"ticks\": \"\"}, \"baxis\": {\"gridcolor\": \"white\", \"linecolor\": \"white\", \"ticks\": \"\"}, \"bgcolor\": \"#E5ECF6\", \"caxis\": {\"gridcolor\": \"white\", \"linecolor\": \"white\", \"ticks\": \"\"}}, \"title\": {\"x\": 0.05}, \"xaxis\": {\"automargin\": true, \"gridcolor\": \"white\", \"linecolor\": \"white\", \"ticks\": \"\", \"title\": {\"standoff\": 15}, \"zerolinecolor\": \"white\", \"zerolinewidth\": 2}, \"yaxis\": {\"automargin\": true, \"gridcolor\": \"white\", \"linecolor\": \"white\", \"ticks\": \"\", \"title\": {\"standoff\": 15}, \"zerolinecolor\": \"white\", \"zerolinewidth\": 2}}}, \"title\": {\"text\": \"Actual vs Predicted Share Prices For 2.5 Quarters\"}, \"xaxis\": {\"title\": {\"text\": \"Q2 2017 - Q4 2017 Inidivual Quarters\"}}, \"yaxis\": {\"title\": {\"text\": \"Share Price\"}}},\n",
       "                        {\"responsive\": true}\n",
       "                    ).then(function(){\n",
       "                            \n",
       "var gd = document.getElementById('e790ebbf-6a67-43d0-b8f8-f757c16eb971');\n",
       "var x = new MutationObserver(function (mutations, observer) {{\n",
       "        var display = window.getComputedStyle(gd).display;\n",
       "        if (!display || display === 'none') {{\n",
       "            console.log([gd, 'removed!']);\n",
       "            Plotly.purge(gd);\n",
       "            observer.disconnect();\n",
       "        }}\n",
       "}});\n",
       "\n",
       "// Listen for the removal of the full notebook cells\n",
       "var notebookContainer = gd.closest('#notebook-container');\n",
       "if (notebookContainer) {{\n",
       "    x.observe(notebookContainer, {childList: true});\n",
       "}}\n",
       "\n",
       "// Listen for the clearing of the current output cell\n",
       "var outputEl = gd.closest('.output');\n",
       "if (outputEl) {{\n",
       "    x.observe(outputEl, {childList: true});\n",
       "}}\n",
       "\n",
       "                        })\n",
       "                };\n",
       "                });\n",
       "            </script>\n",
       "        </div>"
      ]
     },
     "metadata": {},
     "output_type": "display_data"
    }
   ],
   "source": [
    "import plotly.graph_objects as go\n",
    "\n",
    "SharePrice_USD = predicted_df.SharePrice_USD\n",
    "Prediction = predicted_df.Prediction\n",
    "\n",
    "fig = go.Figure()\n",
    "fig.add_trace(go.Scatter(x=predicted_df.index, y=SharePrice_USD,\n",
    "                    mode='lines',\n",
    "                    name='Actual Share Price'))\n",
    "fig.add_trace(go.Scatter(x=predicted_df.index, y=Prediction,\n",
    "                    mode='lines',\n",
    "                    name='Predicted Share Price'))\n",
    "fig.update_layout(title='Actual vs Predicted Share Prices For 2.5 Quarters',\n",
    "                   xaxis_title='Q2 2017 - Q4 2017 Inidivual Quarters',\n",
    "                   yaxis_title='Share Price')\n",
    "fig.show()"
   ]
  },
  {
   "cell_type": "markdown",
   "metadata": {},
   "source": [
    "# Plots"
   ]
  },
  {
   "cell_type": "code",
   "execution_count": 59,
   "metadata": {},
   "outputs": [],
   "source": [
    "all_data=pd.read_csv(\"Resources/P3_Data_Date.csv\")  \n",
    "all_data[\"Date\"]=all_data[\"Date\"].astype('datetime64[ns]')\n",
    "from sklearn.preprocessing import MinMaxScaler\n",
    "scaler=MinMaxScaler()\n",
    "all_data[\"SharePrice_USD\"]=scaler.fit_transform(all_data[\"SharePrice_USD\"].to_frame())"
   ]
  },
  {
   "cell_type": "code",
   "execution_count": 60,
   "metadata": {},
   "outputs": [
    {
     "data": {
      "text/html": [
       "<div>\n",
       "<style scoped>\n",
       "    .dataframe tbody tr th:only-of-type {\n",
       "        vertical-align: middle;\n",
       "    }\n",
       "\n",
       "    .dataframe tbody tr th {\n",
       "        vertical-align: top;\n",
       "    }\n",
       "\n",
       "    .dataframe thead th {\n",
       "        text-align: right;\n",
       "    }\n",
       "</style>\n",
       "<table border=\"1\" class=\"dataframe\">\n",
       "  <thead>\n",
       "    <tr style=\"text-align: right;\">\n",
       "      <th></th>\n",
       "      <th>Date</th>\n",
       "      <th>Quarter</th>\n",
       "      <th>Year</th>\n",
       "      <th>Company_Name</th>\n",
       "      <th>Ticker</th>\n",
       "      <th>SharePrice_USD</th>\n",
       "      <th>Expenses_B_USD</th>\n",
       "      <th>Revenue_B_USD</th>\n",
       "      <th>CashFlow_B_USD</th>\n",
       "      <th>DividendYield_Percent</th>\n",
       "      <th>US_Unemployment_Percent</th>\n",
       "      <th>Brent_USD</th>\n",
       "      <th>LNG_USD</th>\n",
       "      <th>US_Interest_Percent</th>\n",
       "    </tr>\n",
       "  </thead>\n",
       "  <tbody>\n",
       "    <tr>\n",
       "      <td>0</td>\n",
       "      <td>2005-01-01</td>\n",
       "      <td>1</td>\n",
       "      <td>2005</td>\n",
       "      <td>Exxon</td>\n",
       "      <td>XOM</td>\n",
       "      <td>0.368421</td>\n",
       "      <td>61.76</td>\n",
       "      <td>82.05</td>\n",
       "      <td>10.26</td>\n",
       "      <td>0.0027</td>\n",
       "      <td>0.053</td>\n",
       "      <td>48</td>\n",
       "      <td>9.89</td>\n",
       "      <td>0.0247</td>\n",
       "    </tr>\n",
       "    <tr>\n",
       "      <td>1</td>\n",
       "      <td>2005-01-01</td>\n",
       "      <td>1</td>\n",
       "      <td>2005</td>\n",
       "      <td>BP</td>\n",
       "      <td>BP</td>\n",
       "      <td>0.421053</td>\n",
       "      <td>47.08</td>\n",
       "      <td>55.51</td>\n",
       "      <td>6.52</td>\n",
       "      <td>0.0051</td>\n",
       "      <td>0.053</td>\n",
       "      <td>48</td>\n",
       "      <td>9.89</td>\n",
       "      <td>0.0247</td>\n",
       "    </tr>\n",
       "    <tr>\n",
       "      <td>2</td>\n",
       "      <td>2005-01-01</td>\n",
       "      <td>1</td>\n",
       "      <td>2005</td>\n",
       "      <td>Equinor</td>\n",
       "      <td>EQNR</td>\n",
       "      <td>0.026316</td>\n",
       "      <td>9.96</td>\n",
       "      <td>13.35</td>\n",
       "      <td>1.73</td>\n",
       "      <td>0.0000</td>\n",
       "      <td>0.053</td>\n",
       "      <td>48</td>\n",
       "      <td>9.89</td>\n",
       "      <td>0.0247</td>\n",
       "    </tr>\n",
       "    <tr>\n",
       "      <td>3</td>\n",
       "      <td>2005-01-01</td>\n",
       "      <td>1</td>\n",
       "      <td>2005</td>\n",
       "      <td>Chevron</td>\n",
       "      <td>CVX</td>\n",
       "      <td>0.377193</td>\n",
       "      <td>34.46</td>\n",
       "      <td>41.61</td>\n",
       "      <td>2.44</td>\n",
       "      <td>0.0040</td>\n",
       "      <td>0.053</td>\n",
       "      <td>48</td>\n",
       "      <td>9.89</td>\n",
       "      <td>0.0247</td>\n",
       "    </tr>\n",
       "    <tr>\n",
       "      <td>4</td>\n",
       "      <td>2005-01-01</td>\n",
       "      <td>1</td>\n",
       "      <td>2005</td>\n",
       "      <td>Shell</td>\n",
       "      <td>RDS-A</td>\n",
       "      <td>0.429825</td>\n",
       "      <td>62.36</td>\n",
       "      <td>72.16</td>\n",
       "      <td>5.16</td>\n",
       "      <td>0.0000</td>\n",
       "      <td>0.053</td>\n",
       "      <td>48</td>\n",
       "      <td>9.89</td>\n",
       "      <td>0.0247</td>\n",
       "    </tr>\n",
       "    <tr>\n",
       "      <td>...</td>\n",
       "      <td>...</td>\n",
       "      <td>...</td>\n",
       "      <td>...</td>\n",
       "      <td>...</td>\n",
       "      <td>...</td>\n",
       "      <td>...</td>\n",
       "      <td>...</td>\n",
       "      <td>...</td>\n",
       "      <td>...</td>\n",
       "      <td>...</td>\n",
       "      <td>...</td>\n",
       "      <td>...</td>\n",
       "      <td>...</td>\n",
       "      <td>...</td>\n",
       "    </tr>\n",
       "    <tr>\n",
       "      <td>307</td>\n",
       "      <td>2017-10-01</td>\n",
       "      <td>4</td>\n",
       "      <td>2017</td>\n",
       "      <td>BP</td>\n",
       "      <td>BP</td>\n",
       "      <td>0.228070</td>\n",
       "      <td>67.56</td>\n",
       "      <td>67.82</td>\n",
       "      <td>1.48</td>\n",
       "      <td>0.0060</td>\n",
       "      <td>0.042</td>\n",
       "      <td>61</td>\n",
       "      <td>3.84</td>\n",
       "      <td>0.0120</td>\n",
       "    </tr>\n",
       "    <tr>\n",
       "      <td>308</td>\n",
       "      <td>2017-10-01</td>\n",
       "      <td>4</td>\n",
       "      <td>2017</td>\n",
       "      <td>Equinor</td>\n",
       "      <td>EQNR</td>\n",
       "      <td>0.052632</td>\n",
       "      <td>11.93</td>\n",
       "      <td>17.11</td>\n",
       "      <td>1.71</td>\n",
       "      <td>0.0022</td>\n",
       "      <td>0.042</td>\n",
       "      <td>61</td>\n",
       "      <td>3.84</td>\n",
       "      <td>0.0120</td>\n",
       "    </tr>\n",
       "    <tr>\n",
       "      <td>309</td>\n",
       "      <td>2017-10-01</td>\n",
       "      <td>4</td>\n",
       "      <td>2017</td>\n",
       "      <td>Chevron</td>\n",
       "      <td>CVX</td>\n",
       "      <td>0.912281</td>\n",
       "      <td>35.96</td>\n",
       "      <td>36.38</td>\n",
       "      <td>2.59</td>\n",
       "      <td>0.0108</td>\n",
       "      <td>0.042</td>\n",
       "      <td>61</td>\n",
       "      <td>3.84</td>\n",
       "      <td>0.0120</td>\n",
       "    </tr>\n",
       "    <tr>\n",
       "      <td>310</td>\n",
       "      <td>2017-10-01</td>\n",
       "      <td>4</td>\n",
       "      <td>2017</td>\n",
       "      <td>Shell</td>\n",
       "      <td>RDS-A</td>\n",
       "      <td>0.447368</td>\n",
       "      <td>80.59</td>\n",
       "      <td>85.42</td>\n",
       "      <td>1.41</td>\n",
       "      <td>0.0094</td>\n",
       "      <td>0.042</td>\n",
       "      <td>61</td>\n",
       "      <td>3.84</td>\n",
       "      <td>0.0120</td>\n",
       "    </tr>\n",
       "    <tr>\n",
       "      <td>311</td>\n",
       "      <td>2017-10-01</td>\n",
       "      <td>4</td>\n",
       "      <td>2017</td>\n",
       "      <td>Total</td>\n",
       "      <td>TOT</td>\n",
       "      <td>0.359649</td>\n",
       "      <td>40.22</td>\n",
       "      <td>41.44</td>\n",
       "      <td>3.95</td>\n",
       "      <td>0.0073</td>\n",
       "      <td>0.042</td>\n",
       "      <td>61</td>\n",
       "      <td>3.84</td>\n",
       "      <td>0.0120</td>\n",
       "    </tr>\n",
       "  </tbody>\n",
       "</table>\n",
       "<p>312 rows × 14 columns</p>\n",
       "</div>"
      ],
      "text/plain": [
       "          Date  Quarter  Year Company_Name Ticker  SharePrice_USD  \\\n",
       "0   2005-01-01        1  2005        Exxon    XOM        0.368421   \n",
       "1   2005-01-01        1  2005           BP     BP        0.421053   \n",
       "2   2005-01-01        1  2005      Equinor   EQNR        0.026316   \n",
       "3   2005-01-01        1  2005      Chevron    CVX        0.377193   \n",
       "4   2005-01-01        1  2005        Shell  RDS-A        0.429825   \n",
       "..         ...      ...   ...          ...    ...             ...   \n",
       "307 2017-10-01        4  2017           BP     BP        0.228070   \n",
       "308 2017-10-01        4  2017      Equinor   EQNR        0.052632   \n",
       "309 2017-10-01        4  2017      Chevron    CVX        0.912281   \n",
       "310 2017-10-01        4  2017        Shell  RDS-A        0.447368   \n",
       "311 2017-10-01        4  2017        Total    TOT        0.359649   \n",
       "\n",
       "     Expenses_B_USD  Revenue_B_USD  CashFlow_B_USD  DividendYield_Percent  \\\n",
       "0             61.76          82.05           10.26                 0.0027   \n",
       "1             47.08          55.51            6.52                 0.0051   \n",
       "2              9.96          13.35            1.73                 0.0000   \n",
       "3             34.46          41.61            2.44                 0.0040   \n",
       "4             62.36          72.16            5.16                 0.0000   \n",
       "..              ...            ...             ...                    ...   \n",
       "307           67.56          67.82            1.48                 0.0060   \n",
       "308           11.93          17.11            1.71                 0.0022   \n",
       "309           35.96          36.38            2.59                 0.0108   \n",
       "310           80.59          85.42            1.41                 0.0094   \n",
       "311           40.22          41.44            3.95                 0.0073   \n",
       "\n",
       "     US_Unemployment_Percent  Brent_USD  LNG_USD  US_Interest_Percent  \n",
       "0                      0.053         48     9.89               0.0247  \n",
       "1                      0.053         48     9.89               0.0247  \n",
       "2                      0.053         48     9.89               0.0247  \n",
       "3                      0.053         48     9.89               0.0247  \n",
       "4                      0.053         48     9.89               0.0247  \n",
       "..                       ...        ...      ...                  ...  \n",
       "307                    0.042         61     3.84               0.0120  \n",
       "308                    0.042         61     3.84               0.0120  \n",
       "309                    0.042         61     3.84               0.0120  \n",
       "310                    0.042         61     3.84               0.0120  \n",
       "311                    0.042         61     3.84               0.0120  \n",
       "\n",
       "[312 rows x 14 columns]"
      ]
     },
     "execution_count": 60,
     "metadata": {},
     "output_type": "execute_result"
    }
   ],
   "source": [
    "all_data"
   ]
  },
  {
   "cell_type": "code",
   "execution_count": 61,
   "metadata": {},
   "outputs": [
    {
     "data": {
      "text/plain": [
       "<seaborn.axisgrid.FacetGrid at 0x140a20c90>"
      ]
     },
     "execution_count": 61,
     "metadata": {},
     "output_type": "execute_result"
    },
    {
     "data": {
      "image/png": "[encoded data removed]",
      "text/plain": [
       "<Figure size 1080x720 with 6 Axes>"
      ]
     },
     "metadata": {
      "needs_background": "light"
     },
     "output_type": "display_data"
    }
   ],
   "source": [
    "sns.lmplot(x=\"Brent_USD\", y=\"SharePrice_USD\", col=\"Company_Name\",ci=None, col_wrap=3, \n",
    "           data=all_data, order=1,line_kws={'color': 'blue'},scatter_kws={'color': 'grey'}).set(ylim=(0, 1))"
   ]
  },
  {
   "cell_type": "code",
   "execution_count": 62,
   "metadata": {},
   "outputs": [
    {
     "data": {
      "text/plain": [
       "<seaborn.axisgrid.FacetGrid at 0x144711810>"
      ]
     },
     "execution_count": 62,
     "metadata": {},
     "output_type": "execute_result"
    },
    {
     "data": {
      "image/png": "[encoded data removed]",
      "text/plain": [
       "<Figure size 1080x720 with 6 Axes>"
      ]
     },
     "metadata": {
      "needs_background": "light"
     },
     "output_type": "display_data"
    }
   ],
   "source": [
    "sns.lmplot(x=\"LNG_USD\", y=\"SharePrice_USD\", col=\"Company_Name\",ci=None, col_wrap=3, \n",
    "           data=all_data, order=1,line_kws={'color': 'blue'},scatter_kws={'color': 'grey'}).set(ylim=(0, 1))"
   ]
  }
 ],
 "metadata": {
  "anaconda-cloud": {},
  "celltoolbar": "Slideshow",
  "kernelspec": {
   "display_name": "Python 3",
   "language": "python",
   "name": "python3"
  },
  "language_info": {
   "codemirror_mode": {
    "name": "ipython",
    "version": 3
   },
   "file_extension": ".py",
   "mimetype": "text/x-python",
   "name": "python",
   "nbconvert_exporter": "python",
   "pygments_lexer": "ipython3",
   "version": "3.7.4"
  },
  "varInspector": {
   "cols": {
    "lenName": 16,
    "lenType": 16,
    "lenVar": 40
   },
   "kernels_config": {
    "python": {
     "delete_cmd_postfix": "",
     "delete_cmd_prefix": "del ",
     "library": "var_list.py",
     "varRefreshCmd": "print(var_dic_list())"
    },
    "r": {
     "delete_cmd_postfix": ") ",
     "delete_cmd_prefix": "rm(",
     "library": "var_list.r",
     "varRefreshCmd": "cat(var_dic_list()) "
    }
   },
   "types_to_exclude": [
    "module",
    "function",
    "builtin_function_or_method",
    "instance",
    "_Feature"
   ],
   "window_display": false
  }
 },
 "nbformat": 4,
 "nbformat_minor": 2
}
